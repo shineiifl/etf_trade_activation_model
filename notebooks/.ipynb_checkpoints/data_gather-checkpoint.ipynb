{
 "cells": [
  {
   "cell_type": "code",
   "execution_count": null,
   "id": "40dfe3e4",
   "metadata": {},
   "outputs": [],
   "source": [
    "import pandas as pd\n",
    "import numpy as np\n",
    "import matplotlib.pyplot as plt\n",
    "import seaborn as sns\n",
    "import warnings\n",
    "\n",
    "warnings.filterwarnings('ignore')\n",
    "\n",
    "pd.set_option('display.max_columns', None)\n"
   ]
  },
  {
   "cell_type": "markdown",
   "id": "49a547fa",
   "metadata": {},
   "source": [
    "## importing data"
   ]
  },
  {
   "cell_type": "code",
   "execution_count": null,
   "id": "20b02be8",
   "metadata": {},
   "outputs": [],
   "source": [
    "import pandas as pd\n",
    "import numpy as np\n",
    "import matplotlib.pyplot as plt\n",
    "import seaborn as sns\n",
    "import warnings\n",
    "\n",
    "warnings.filterwarnings('ignore')\n",
    "\n",
    "pd.set_option('display.max_columns', None)\n",
    "\n",
    "from datetime import datetime\n",
    "from datetime import date"
   ]
  },
  {
   "cell_type": "markdown",
   "id": "084e8d9f",
   "metadata": {},
   "source": [
    "## Features \n",
    "* Age\n",
    "* sex\n",
    "* income_per_annum\n",
    "* occupation\n",
    "* Z20\n",
    "* app_status\n",
    "* E2 channel\n",
    "* iskarvy\n",
    "* KRA\n",
    "<br>\n",
    "<br>\n",
    "* number of logins in last year\n",
    "* num_trades in last year\n",
    "* months since last login\n",
    "* months since last trade\n",
    "* FAO segment trading client\n",
    "* delivery segment trading client\n",
    "* intraday segment trading client\n",
    "* dp_holding\n",
    "* ledger_balance\n"
   ]
  },
  {
   "cell_type": "markdown",
   "id": "7d853f77",
   "metadata": {},
   "source": [
    "## Data importing"
   ]
  },
  {
   "cell_type": "code",
   "execution_count": null,
   "id": "31904f5f",
   "metadata": {},
   "outputs": [],
   "source": [
    "# df_client = pd.read_csv(\"../../../data/dw_mst_client.csv\")\n",
    "# df_app_clients = pd.read_csv(\"../../../data/app_clients.csv\")\n",
    "\n",
    "# df_FAO = pd.read_csv(\"../../../data/FAO_clients.csv\")\n",
    "# df_ledger = pd.read_csv(\"../../../data/THV_ALB_all_clients_20211114.csv\")\n",
    "# df_etf = pd.read_csv(\"../../../data/etf_accepted_till_20211115.csv\")\n",
    "\n",
    "df_z20 = pd.read_csv(\"../../../data/z20_20211115.csv\")\n",
    "\n",
    "\n",
    "# df_client =  df_client[df_client[\"data_source\"] == \"Equity\"]\n"
   ]
  },
  {
   "cell_type": "code",
   "execution_count": null,
   "id": "9f158596",
   "metadata": {},
   "outputs": [],
   "source": [
    "df_model = df_client[[\"cm_cd\", \"cm_dob\", \"KRA YN\", \"IsKarvy\", \"cm_sex\", \"Last_MobileLoginDate\", \"IncomePA\", \n",
    "                      \"IsDormant\", \"LTD\", \"Futures LTD\", \"Options LTD\", \"IntraDay LTD\", \"Delivery LTD\", \"E2Channel\"]]\n",
    "\n",
    "########################### adding target feature ##################################\n",
    "df_model = pd.merge(df_model, \n",
    "                   df_etf, left_on = \"cm_cd\", \n",
    "                   right_on = \"ClientCode\", how = \"right\")[[\"ClientCode\", \"SegActDatetime\"] + list(df_model.columns)[1:]]\n",
    "\n",
    "df_model[\"SegActDatetime\"] = df_model[\"SegActDatetime\"].astype(str).str.split(\" \").str[0].str.split(\"-\").str.join(\"\").astype(int)\n",
    "\n",
    "\n",
    "## adding target feature\n",
    "df_model[\"target\"] = df_model[\"LTD\"] - df_model[\"SegActDatetime\"]\n",
    "# df_model.loc[df_model[\"target\"] < 0, 'target'] = 1\n",
    "# df_model.loc[df_model[\"target\"] > 0, 'target'] = 0\n"
   ]
  },
  {
   "cell_type": "code",
   "execution_count": null,
   "id": "ddc0f14c",
   "metadata": {},
   "outputs": [],
   "source": [
    "df_model"
   ]
  },
  {
   "cell_type": "code",
   "execution_count": null,
   "id": "25107652",
   "metadata": {},
   "outputs": [],
   "source": [
    "(df_model[\"target\"] > 0).sum(), (df_model[\"target\"] < 0).sum()"
   ]
  },
  {
   "cell_type": "markdown",
   "id": "2105b770",
   "metadata": {},
   "source": [
    "## addding Features"
   ]
  },
  {
   "cell_type": "code",
   "execution_count": null,
   "id": "0d8f4058",
   "metadata": {},
   "outputs": [],
   "source": [
    "### short listing clients\n",
    "now = datetime.now()\n",
    "\n",
    "# taking only clients who opened ther account after 2010\n",
    "df_client = df_client[(df_client[\"cm_opendt\"] >= 20101001) & (df_client[\"data_source\"] == \"Equity\")]\n",
    "df_model = df_client[[\"cm_cd\", \"cm_dob\", \"KRA YN\", \"IsKarvy\", \"cm_sex\", \"Last_MobileLoginDate\", \"IncomePA\", \n",
    "                      \"IsDormant\", \"LTD\", \"Futures LTD\", \"Options LTD\", \"IntraDay LTD\", \"Delivery LTD\", \"E2Channel\"]]\n",
    "\n",
    "########################### adding target feature ##################################\n",
    "df_model = pd.merge(df_model, \n",
    "                   df_etf, left_on = \"cm_cd\", \n",
    "                   right_on = \"ClientCode\", how = \"right\")[[\"ClientCode\", \"ETFDatetime\"] + list(df_model.columns)[1:]]\n",
    "\n",
    "df_model[\"ETFDatetime\"] = df_model[\"ETFDatetime\"].astype(str).str.split(\" \").str[0].str.split(\"-\").str.join(\"\").astype(int)\n",
    "\n",
    "df_model = df_model[df_model[\"ETFDatetime\"] > 20000101]\n",
    "## adding target feature\n",
    "df_model[\"target\"] = df_model[\"LTD\"] - df_model[\"ETFDatetime\"]\n",
    "df_model['target'][df_model[\"target\"] > 0] = 1\n",
    "df_model['target'][df_model[\"target\"] < 0] = 0\n",
    "del df_model[\"ETFDatetime\"]\n",
    "del df_model[\"LTD\"]\n",
    "\n",
    "####################################################################################\n",
    "\n",
    "\n",
    "\n",
    "\n",
    "## adding age \n",
    "df_model[\"cm_dob\"] = df_model[\"cm_dob\"].astype(str).str.split(\".\").str[0]\n",
    "df_model[\"cm_dob\"] = pd.to_datetime(df_model[\"cm_dob\"], errors = \"coerce\")\n",
    "df_model[\"age\"] =  (now -df_model[\"cm_dob\"]).astype('<m8[Y]')\n",
    "del df_model[\"cm_dob\"]\n",
    "\n",
    "print(\"age column added\")\n",
    "print(\"-------------------------------------------------\")\n",
    "# adding months since last trade\n",
    "df_model[\"Last_MobileLoginDate\"] = df_model[\"Last_MobileLoginDate\"].astype(str).str.split(\".\").str[0]\n",
    "df_model[\"Last_MobileLoginDate\"] = pd.to_datetime(df_model[\"Last_MobileLoginDate\"], errors = \"coerce\")\n",
    "df_model[\"months_since_last_login\"] =  (now -df_model[\"Last_MobileLoginDate\"])/np.timedelta64(1, 'M')\n",
    "del df_model[\"Last_MobileLoginDate\"]\n",
    "df_model[\"months_since_last_login\"] = df_model[\"months_since_last_login\"].fillna(132)\n",
    "\n",
    "print(\"months since last login added\")\n",
    "print(\"-------------------------------------------------\")\n",
    "\n",
    "# adding months since last trade - futures\n",
    "df_model[\"Futures LTD\"] = df_model[\"Futures LTD\"].astype(str).str.split(\".\").str[0]\n",
    "df_model[\"Futures LTD\"] = pd.to_datetime(df_model[\"Futures LTD\"], errors = \"coerce\")\n",
    "df_model[\"months_since_last_futures_trade\"] =  (now -df_model[\"Futures LTD\"])/np.timedelta64(1, 'M')\n",
    "del df_model[\"Futures LTD\"]\n",
    "df_model[\"months_since_last_futures_trade\"] = df_model[\"months_since_last_futures_trade\"].fillna(132)\n",
    "\n",
    "\n",
    "print(\"months since last furures trade added\")\n",
    "print(\"-------------------------------------------------\")\n",
    "\n",
    "# adding months since last trade - options\n",
    "df_model[\"Options LTD\"] = df_model[\"Options LTD\"].astype(str).str.split(\".\").str[0]\n",
    "df_model[\"Options LTD\"] = pd.to_datetime(df_model[\"Options LTD\"], errors = \"coerce\")\n",
    "df_model[\"months_since_last_options_trade\"] =  (now -df_model[\"Options LTD\"])/np.timedelta64(1, 'M')\n",
    "del df_model[\"Options LTD\"]\n",
    "df_model[\"months_since_last_options_trade\"] = df_model[\"months_since_last_options_trade\"].fillna(132)\n",
    "\"\"\n",
    "\n",
    "print(\"months since last options trade added\")\n",
    "print(\"-------------------------------------------------\")\n",
    "\n",
    "# adding months since last trade - intraday\n",
    "df_model[\"IntraDay LTD\"] = df_model[\"IntraDay LTD\"].astype(str).str.split(\".\").str[0]\n",
    "df_model[\"IntraDay LTD\"] = pd.to_datetime(df_model[\"IntraDay LTD\"], errors = \"coerce\")\n",
    "df_model[\"months_since_last_intraday_trade\"] =  (now -df_model[\"IntraDay LTD\"])/np.timedelta64(1, 'M')\n",
    "del df_model[\"IntraDay LTD\"]\n",
    "df_model[\"months_since_last_intraday_trade\"] = df_model[\"months_since_last_intraday_trade\"].fillna(132)\n",
    "\n",
    "print(\"months since last intraday trade added\")\n",
    "print(\"-------------------------------------------------\")\n",
    "\n",
    "# adding months since last trade - delivery\n",
    "df_model[\"Delivery LTD\"] = df_model[\"Delivery LTD\"].astype(str).str.split(\".\").str[0]\n",
    "df_model[\"Delivery LTD\"] = pd.to_datetime(df_model[\"Delivery LTD\"], errors = \"coerce\")\n",
    "df_model[\"months_since_last_delivery_trade\"] =  (now -df_model[\"Delivery LTD\"])/np.timedelta64(1, 'M')\n",
    "del df_model[\"Delivery LTD\"]\n",
    "df_model[\"months_since_last_delivery_trade\"] = df_model[\"months_since_last_delivery_trade\"].fillna(132)\n",
    "\n",
    "\n",
    "print(\"months since last del trade added\")\n",
    "print(\"-------------------------------------------------\")\n",
    "\n",
    "\n"
   ]
  },
  {
   "cell_type": "code",
   "execution_count": null,
   "id": "0fc85019",
   "metadata": {},
   "outputs": [],
   "source": [
    "## adding THV and ALB\n",
    "df_model = pd.merge(df_model, df_ledger, \n",
    "                   left_on = \"ClientCode\", \n",
    "                   right_on = \"LoginID\", how = \"left\")[list(df_model.columns) + [\"THV\", \"ALB\"]]"
   ]
  },
  {
   "cell_type": "code",
   "execution_count": null,
   "id": "f61ec2cf",
   "metadata": {},
   "outputs": [],
   "source": [
    "## adding z20 \n",
    "df_z20[\"Z20\"] = [1]*len(df_z20)\n",
    "df_model = pd.merge(df_model, df_z20, \n",
    "                   left_on = \"ClientCode\", \n",
    "                   right_on = \"cm_cd\", how = \"left\")[list(df_model.columns) + [\"Z20\"]]\n",
    "df_model[\"Z20\"] = df_model[\"Z20\"].fillna(0)"
   ]
  },
  {
   "cell_type": "code",
   "execution_count": null,
   "id": "5625bb40",
   "metadata": {},
   "outputs": [],
   "source": [
    "df_model = df_model[~df_model['ClientCode'].duplicated(keep='last')]"
   ]
  },
  {
   "cell_type": "code",
   "execution_count": null,
   "id": "7182b058",
   "metadata": {},
   "outputs": [],
   "source": [
    "# ## adding logins and trades in one year\n",
    "# df_logins_one_year = pd.read_csv(\"../../../data/logins_in_one_year.csv\") \n",
    "# df_model.rename(columns = {\"ClientCode\": \"client_code\"}, inplace = True)\n",
    "# df_model = pd.merge(df_model, df_logins_one_year, \n",
    "#                    left_on = \"client_code\", \n",
    "#                    right_on = \"ClientCode\", how = \"left\")[list(df_model.columns) + [\"total_logins_one_year\"]]\n",
    "# df_model[\"total_logins_one_year\"] = df_model[\"total_logins_one_year\"].fillna(0)\n",
    "\n",
    "df_trades_one_year = pd.read_csv(\"../../../data/trades_in_one_year.csv\") \n",
    "df_model = pd.merge(df_model, df_trades_one_year, \n",
    "                   left_on = \"client_code\", \n",
    "                   right_on = \"Client_Code\", how = \"left\")[list(df_model.columns) + [\"total_trades_one_year\"]]\n",
    "df_model[\"total_trades_one_year\"] = df_model[\"total_trades_one_year\"].fillna(0)"
   ]
  },
  {
   "cell_type": "code",
   "execution_count": null,
   "id": "28bd2235",
   "metadata": {},
   "outputs": [],
   "source": [
    "df_model"
   ]
  },
  {
   "cell_type": "code",
   "execution_count": null,
   "id": "758f8dae",
   "metadata": {},
   "outputs": [],
   "source": [
    "df_model.to_csv(\"../inter_data/preprocessed.csv\")"
   ]
  },
  {
   "cell_type": "markdown",
   "id": "934dc920",
   "metadata": {},
   "source": [
    "## Analysis"
   ]
  },
  {
   "cell_type": "code",
   "execution_count": null,
   "id": "99a7caf2",
   "metadata": {},
   "outputs": [],
   "source": [
    "df_model = pd.read_csv(\"../inter_data/preprocessed.csv\")"
   ]
  },
  {
   "cell_type": "code",
   "execution_count": null,
   "id": "8963929f",
   "metadata": {},
   "outputs": [],
   "source": [
    "df_model[\"target\"].value_counts()"
   ]
  },
  {
   "cell_type": "code",
   "execution_count": null,
   "id": "e32fcced",
   "metadata": {},
   "outputs": [],
   "source": [
    "sns.set(rc={'figure.figsize':(20,5)})\n",
    "df_model[\"IncomePA\"] = df_model[\"IncomePA\"].replace({\"5_10L ??\": \"5_10L\", \n",
    "                                        \"<=1??\": \"<=1L\", \n",
    "                                        \"1_5??\": \"1_5L\", \"<= 1L\": \"<=1L\"})\n",
    "sns.countplot(\"IncomePA\",data = df_model, hue = \"target\").set_title(\"income wise analysis\",  fontsize=25)\n"
   ]
  },
  {
   "cell_type": "code",
   "execution_count": null,
   "id": "c93dd7e2",
   "metadata": {},
   "outputs": [],
   "source": [
    "sns.set(rc={'figure.figsize':(20,5)})\n",
    "\n",
    "sns.countplot(\"E2Channel\",data = df_model, hue = \"target\", \n",
    "              order = df_model[\"E2Channel\"].value_counts().index[:6], palette = \"rocket\").set_title(\"channel wise analysis\",  fontsize=25)\n"
   ]
  },
  {
   "cell_type": "code",
   "execution_count": null,
   "id": "9e9b09df",
   "metadata": {},
   "outputs": [],
   "source": [
    "sns.set(rc={'figure.figsize':(20, 8)})\n",
    "\n",
    "sns.histplot(data = df_model, y = \"age\", hue = \"target\", \n",
    "              bins = 10, multiple = \"stack\").set_title(\"channel wise analysis\",  fontsize=20)\n"
   ]
  },
  {
   "cell_type": "code",
   "execution_count": null,
   "id": "c0db9c39",
   "metadata": {},
   "outputs": [],
   "source": [
    "fig, axs = plt.subplots(ncols=2)\n",
    "\n",
    "sns.distplot(df_model[df_model[\"total_logins_one_year\"] < 5000][df_model[\"target\"] == 0][\"total_logins_one_year\"], ax=axs[0]).set_title(\"Distribution plot of non trading logins in last one year\",  fontsize=20)\n",
    "sns.distplot(df_model[df_model[\"total_logins_one_year\"] < 5000][df_model[\"target\"] == 1][\"total_logins_one_year\"], ax=axs[1]).set_title(\"Distribution plot of trading clients logins in last one year \",  fontsize=20)"
   ]
  },
  {
   "cell_type": "code",
   "execution_count": null,
   "id": "da8425cb",
   "metadata": {},
   "outputs": [],
   "source": [
    "fig, axs = plt.subplots(ncols=2)\n",
    "\n",
    "sns.distplot(df_model[df_model[\"total_trades_one_year\"] < 1000][df_model[\"target\"] == 0][\"total_trades_one_year\"], \n",
    "             ax=axs[0]).set_title(\"Distribution plot of non-trading clients trades in last one year\",  fontsize=20)\n",
    "sns.distplot(df_model[df_model[\"total_trades_one_year\"] < 1000][df_model[\"target\"] == 1][\"total_trades_one_year\"], \n",
    "             ax=axs[1]).set_title(\"Distribution plot of trading clients trades in last one year \",  fontsize=20)"
   ]
  },
  {
   "cell_type": "code",
   "execution_count": null,
   "id": "b74a8583",
   "metadata": {},
   "outputs": [],
   "source": [
    "fig, axs = plt.subplots(ncols=2)\n",
    "\n",
    "sns.distplot(df_model[(df_model[\"target\"] == 0) & (df_model[\"months_since_last_delivery_trade\"] < 20)][\"months_since_last_delivery_trade\"], \n",
    "            ax=axs[0]).set_title(\"Distribution plot of non trading clients months since last trade in last one year \",  fontsize=15)\n",
    "sns.distplot(df_model[(df_model[\"target\"] == 1) & (df_model[\"months_since_last_delivery_trade\"] < 20)][\"months_since_last_delivery_trade\"], \n",
    "            ax=axs[1]).set_title(\"Distribution plot of trading clients months since last trade in last one year \",  fontsize=15)"
   ]
  },
  {
   "cell_type": "code",
   "execution_count": null,
   "id": "862d6913",
   "metadata": {},
   "outputs": [],
   "source": [
    "print(\"mean of number of trades in one year by clients trading post etf: {}\".format(df_model[df_model[\"target\"] == 1][\"total_trades_one_year\"].median()))\n",
    "print(\"mean of number of trades in one year by clients not trading post etf: {}\".format(df_model[df_model[\"target\"] == 0][\"total_trades_one_year\"].mean()))"
   ]
  },
  {
   "cell_type": "code",
   "execution_count": null,
   "id": "1291b7c5",
   "metadata": {},
   "outputs": [],
   "source": []
  }
 ],
 "metadata": {
  "kernelspec": {
   "display_name": "Python 3",
   "language": "python",
   "name": "python3"
  },
  "language_info": {
   "codemirror_mode": {
    "name": "ipython",
    "version": 3
   },
   "file_extension": ".py",
   "mimetype": "text/x-python",
   "name": "python",
   "nbconvert_exporter": "python",
   "pygments_lexer": "ipython3",
   "version": "3.8.8"
  }
 },
 "nbformat": 4,
 "nbformat_minor": 5
}
